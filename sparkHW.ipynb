{
 "cells": [
  {
   "cell_type": "code",
   "execution_count": 1,
   "metadata": {
    "collapsed": false
   },
   "outputs": [
    {
     "data": {
      "text/plain": [
       "<pyspark.context.SparkContext at 0xb2074cac>"
      ]
     },
     "execution_count": 1,
     "metadata": {},
     "output_type": "execute_result"
    }
   ],
   "source": [
    "sc"
   ]
  },
  {
   "cell_type": "code",
   "execution_count": 2,
   "metadata": {
    "collapsed": false
   },
   "outputs": [
    {
     "data": {
      "text/plain": [
       "<pyspark.context.SparkContext at 0xb2074cac>"
      ]
     },
     "execution_count": 2,
     "metadata": {},
     "output_type": "execute_result"
    }
   ],
   "source": [
    "sc"
   ]
  },
  {
   "cell_type": "code",
   "execution_count": 3,
   "metadata": {
    "collapsed": false
   },
   "outputs": [
    {
     "data": {
      "text/plain": [
       "input/file1 MapPartitionsRDD[1] at textFile at NativeMethodAccessorImpl.java:-2"
      ]
     },
     "execution_count": 3,
     "metadata": {},
     "output_type": "execute_result"
    }
   ],
   "source": [
    "lines = sc.textFile(\"input/file1\")\n",
    "lines"
   ]
  },
  {
   "cell_type": "code",
   "execution_count": 4,
   "metadata": {
    "collapsed": false
   },
   "outputs": [
    {
     "data": {
      "text/plain": [
       "[u'Hello World Bye World']"
      ]
     },
     "execution_count": 4,
     "metadata": {},
     "output_type": "execute_result"
    }
   ],
   "source": [
    "lines.collect()"
   ]
  },
  {
   "cell_type": "code",
   "execution_count": 5,
   "metadata": {
    "collapsed": false
   },
   "outputs": [
    {
     "data": {
      "text/plain": [
       "4"
      ]
     },
     "execution_count": 5,
     "metadata": {},
     "output_type": "execute_result"
    }
   ],
   "source": [
    "words = lines.flatMap(lambda l: l.split(\" \"))\n",
    "words.count()"
   ]
  },
  {
   "cell_type": "markdown",
   "metadata": {},
   "source": [
    "# Problem 1"
   ]
  },
  {
   "cell_type": "code",
   "execution_count": 29,
   "metadata": {
    "collapsed": false
   },
   "outputs": [
    {
     "name": "stdout",
     "output_type": "stream",
     "text": [
      "Bye : 1\n",
      "Goodbye : 1\n",
      "Hadoop : 2\n",
      "Hello : 2\n",
      "World : 2\n"
     ]
    }
   ],
   "source": [
    "path = \"/home/vagrant/csds-material/input\"\n",
    "lines = sc.textFile(path)\n",
    "record = lines.flatMap(lambda l: l.split(\" \"))\\\n",
    "            .map(lambda a: (a, 1))\\\n",
    "            .reduceByKey(lambda x,y:x+y)\\\n",
    "            .map(lambda x:(x[0],x[1]))\\\n",
    "            .sortByKey(True)\n",
    "Ans = record.take(record.count())\n",
    "for a in Ans:\n",
    "    print a[0] + ' : ' + str(a[1])"
   ]
  },
  {
   "cell_type": "markdown",
   "metadata": {},
   "source": [
    "# Problem 2"
   ]
  },
  {
   "cell_type": "code",
   "execution_count": 57,
   "metadata": {
    "collapsed": false
   },
   "outputs": [
    {
     "name": "stdout",
     "output_type": "stream",
     "text": [
      "i. What is the average price of the products that were purchased via Mastercard?\n",
      "275.067731742\n",
      "\n",
      "ii. Which date recorded the highest total sales?\n",
      "2012-03-17\n",
      "\n",
      "iii. What is the minimum value of a product under the Computers category?\n",
      "0.38\n",
      "\n",
      "iv. How many distinct categories of products are there?\n",
      "18\n",
      "\n",
      "v. Which store location had the lowest total sales?\n",
      "Plano\n",
      "\n"
     ]
    }
   ],
   "source": [
    "from pyspark.sql.types import *\n",
    "\n",
    "sqlContext = SQLContext(sc)\n",
    "\n",
    "# 1. Load the purchases.txt file into an RDD\n",
    "path = \"/home/vagrant/csds-material/hive/purchases.txt\"\n",
    "lines = sc.textFile(path)\n",
    "record = lines.map(lambda l: l.split(\",\"))\n",
    "\n",
    "# 2. create a DataFrame from the RDD\n",
    "purchases = record.map(lambda p: (p[0].split(\" \")[0], p[1], p[2], float(p[3]), p[4]))\n",
    "\n",
    "fields = [StructField(\"timestamp\", StringType(), True), \\\n",
    "          StructField(\"location\", StringType(), True), \\\n",
    "          StructField(\"category\", StringType(), True), \\\n",
    "          StructField(\"price\", FloatType(), True), \\\n",
    "          StructField(\"card\", StringType(), True), \\\n",
    "         ]\n",
    "\n",
    "purchasesSchema = StructType(fields)\n",
    "purchasesDataFrame = sqlContext.createDataFrame(purchases, purchasesSchema)\n",
    "purchasesTable = purchasesDataFrame.registerTempTable(\"purchases\")\n",
    "\n",
    "# 3. formuate the queries for answering the questions\n",
    "\n",
    "# i. What is the average price of the products that were purchased via Mastercard?\n",
    "query = \"select avg(price) as Ans from purchases where card = \\\"MasterCard\\\" \"\n",
    "result = sqlContext.sql(query)\n",
    "Ans = result.map(lambda a: str(a.Ans))\n",
    "print \"i. What is the average price of the products that were purchased via Mastercard?\"\n",
    "print float(Ans.collect()[0])\n",
    "print ''\n",
    "\n",
    "# ii. Which date recorded the highest total sales?\n",
    "query = \"select timestamp as DATE, sum(price) as SALE from purchases group by timestamp order by SALE DESC LIMIT 1\"\n",
    "result = sqlContext.sql(query)\n",
    "Ans = result.map(lambda a: str(a.DATE))\n",
    "print \"ii. Which date recorded the highest total sales?\"\n",
    "print Ans.collect()[0]\n",
    "print ''\n",
    "\n",
    "# iii. What is the minimum value of a product under the Computers category?\n",
    "query = \"select min(price) as Ans from purchases where category = \\\"Computers\\\" \"\n",
    "result = sqlContext.sql(query)\n",
    "Ans = result.map(lambda a: a.Ans)\n",
    "print \"iii. What is the minimum value of a product under the Computers category?\"\n",
    "print round(float(Ans.collect()[0]),2)\n",
    "print ''\n",
    "\n",
    "# iv. How many distinct categories of products are there?\n",
    "query = \"select count(*) as Ans from (select DISTINCT category from purchases) temp \"\n",
    "result = sqlContext.sql(query)\n",
    "Ans = result.map(lambda a: str(a.Ans))\n",
    "print \"iv. How many distinct categories of products are there?\"\n",
    "print int(Ans.collect()[0])\n",
    "print ''\n",
    "\n",
    "# v. Which store location had the lowest total sales?\n",
    "query = \"select location as Ans, sum(price) as SALE from purchases group by location order by SALE ASC LIMIT 1 \"\n",
    "result = sqlContext.sql(query)\n",
    "Ans = result.map(lambda a: str(a.Ans))\n",
    "print \"v. Which store location had the lowest total sales?\"\n",
    "print Ans.collect()[0]\n",
    "print ''"
   ]
  },
  {
   "cell_type": "markdown",
   "metadata": {},
   "source": [
    "# Problem 3"
   ]
  },
  {
   "cell_type": "code",
   "execution_count": 58,
   "metadata": {
    "collapsed": false
   },
   "outputs": [
    {
     "data": {
      "text/plain": [
       "[(u'2012-07-20', u'Corpus Christi', u'CDs', 327.91, u'Cash'),\n",
       " (u'2012-03-11', u'Durham', u'Books', 115.09, u'Discover'),\n",
       " (u'2012-07-31', u'Rochester', u'Toys', 332.07, u'MasterCard'),\n",
       " (u'2012-06-18', u'Garland', u'Computers', 31.99, u'Visa'),\n",
       " (u'2012-03-27', u'Tulsa', u'CDs', 452.18, u'Discover')]"
      ]
     },
     "execution_count": 58,
     "metadata": {},
     "output_type": "execute_result"
    }
   ],
   "source": [
    "purchases.take(5)"
   ]
  },
  {
   "cell_type": "code",
   "execution_count": 61,
   "metadata": {
    "collapsed": false
   },
   "outputs": [
    {
     "name": "stdout",
     "output_type": "stream",
     "text": [
      "timestamp  location       category  price  card      \n",
      "2012-07-20 Corpus Christi CDs       327.91 Cash      \n",
      "2012-03-11 Durham         Books     115.09 Discover  \n",
      "2012-07-31 Rochester      Toys      332.07 MasterCard\n",
      "2012-06-18 Garland        Computers 31.99  Visa      \n",
      "2012-03-27 Tulsa          CDs       452.18 Discover  \n"
     ]
    }
   ],
   "source": [
    "purchasesDF = purchases.toDF(['timestamp', 'location', 'category', 'price', 'card'])\n",
    "purchasesDF.show(5)"
   ]
  },
  {
   "cell_type": "code",
   "execution_count": 74,
   "metadata": {
    "collapsed": false
   },
   "outputs": [
    {
     "name": "stdout",
     "output_type": "stream",
     "text": [
      "i. What is the average price of the products that were purchased via Mastercard?\n",
      "AVG(price)        \n",
      "275.06773195876286\n",
      "\n",
      "iii. What is the minimum value of a product under the Computers category?\n",
      "MIN(price)\n",
      "0.38      \n",
      "\n"
     ]
    }
   ],
   "source": [
    "from pyspark.sql.functions import *\n",
    "\n",
    "# i. What is the average price of the products that were purchased via Mastercard?\n",
    "\n",
    "print \"i. What is the average price of the products that were purchased via Mastercard?\"\n",
    "purchasesDF.filter(purchasesDF.card == 'MasterCard').agg(avg(col('price'))).show()\n",
    "print ''\n",
    "\n",
    "\n",
    "# iii. What is the minimum value of a product under the Computers category?\n",
    "print \"iii. What is the minimum value of a product under the Computers category?\"\n",
    "purchasesDF.filter(purchasesDF.category == 'Computers').agg(min(col('price'))).show()\n",
    "print ''\n"
   ]
  },
  {
   "cell_type": "code",
   "execution_count": null,
   "metadata": {
    "collapsed": true
   },
   "outputs": [],
   "source": []
  }
 ],
 "metadata": {
  "kernelspec": {
   "display_name": "Python 2",
   "language": "python",
   "name": "python2"
  },
  "language_info": {
   "codemirror_mode": {
    "name": "ipython",
    "version": 2
   },
   "file_extension": ".py",
   "mimetype": "text/x-python",
   "name": "python",
   "nbconvert_exporter": "python",
   "pygments_lexer": "ipython2",
   "version": "2.7.6"
  }
 },
 "nbformat": 4,
 "nbformat_minor": 0
}
